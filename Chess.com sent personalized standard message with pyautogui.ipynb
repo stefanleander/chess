{
 "cells": [
  {
   "cell_type": "markdown",
   "metadata": {},
   "source": [
    "# Python code to sent personalized standard chat message on chess.com"
   ]
  },
  {
   "cell_type": "markdown",
   "metadata": {},
   "source": [
    "The purpose of this code is to efficiently sent personalized standard messages to many users on chess.com\n",
    "\n",
    "This python code do the following: 1. Import userlist, done in another code, who should receive the message, 2. Drop specific users as required, if the standard message should not be sent to that user, for some reason 3. Create personalized standard message, 4. Send the message.\n",
    "\n",
    "Key Python library is pyautogui.\n"
   ]
  },
  {
   "cell_type": "code",
   "execution_count": 2,
   "metadata": {},
   "outputs": [],
   "source": [
    "# Import libs\n",
    "import pandas as pd\n",
    "import pyautogui as pg\n",
    "import pyperclip\n",
    "import webbrowser\n",
    "import time"
   ]
  },
  {
   "cell_type": "code",
   "execution_count": 3,
   "metadata": {},
   "outputs": [],
   "source": [
    "# Import file with usernames\n",
    "df = pd.read_csv('Team_Denmark_Live_Match_Count.csv', sep='|')"
   ]
  },
  {
   "cell_type": "code",
   "execution_count": null,
   "metadata": {},
   "outputs": [],
   "source": [
    "# Used groupby to identify small test segments, for which the entire has been tested on before the big bang for all users.\n",
    "df.groupby(['0']).count()"
   ]
  },
  {
   "cell_type": "code",
   "execution_count": null,
   "metadata": {},
   "outputs": [],
   "source": [
    "# Drop some users\n",
    "\n",
    "df = df[df['0'] != 1]\n",
    "df = df[df['0'] != 5]\n",
    "df = df[df['0'] != 8]\n",
    "df = df[df['0'] != 32]\n",
    "df = df[df['0'] != 13]\n",
    "df = df[df['0'] != 12]\n"
   ]
  },
  {
   "cell_type": "code",
   "execution_count": 4,
   "metadata": {},
   "outputs": [],
   "source": [
    "# Select some users\n",
    "df = df[df['username'] == 'stefanleander']"
   ]
  },
  {
   "cell_type": "code",
   "execution_count": 5,
   "metadata": {},
   "outputs": [
    {
     "data": {
      "text/html": [
       "<div>\n",
       "<style scoped>\n",
       "    .dataframe tbody tr th:only-of-type {\n",
       "        vertical-align: middle;\n",
       "    }\n",
       "\n",
       "    .dataframe tbody tr th {\n",
       "        vertical-align: top;\n",
       "    }\n",
       "\n",
       "    .dataframe thead th {\n",
       "        text-align: right;\n",
       "    }\n",
       "</style>\n",
       "<table border=\"1\" class=\"dataframe\">\n",
       "  <thead>\n",
       "    <tr style=\"text-align: right;\">\n",
       "      <th></th>\n",
       "      <th>Unnamed: 0</th>\n",
       "      <th>username</th>\n",
       "      <th>0</th>\n",
       "      <th>rapid_games</th>\n",
       "      <th>rapid_rating</th>\n",
       "      <th>rapid_days_since_last_game</th>\n",
       "      <th>blitz_games</th>\n",
       "      <th>blitz_rating</th>\n",
       "      <th>blitz_days_since_last_game</th>\n",
       "    </tr>\n",
       "  </thead>\n",
       "  <tbody>\n",
       "    <tr>\n",
       "      <th>5</th>\n",
       "      <td>5</td>\n",
       "      <td>stefanleander</td>\n",
       "      <td>12</td>\n",
       "      <td>44</td>\n",
       "      <td>1127</td>\n",
       "      <td>6</td>\n",
       "      <td>1981</td>\n",
       "      <td>1073</td>\n",
       "      <td>1</td>\n",
       "    </tr>\n",
       "  </tbody>\n",
       "</table>\n",
       "</div>"
      ],
      "text/plain": [
       "   Unnamed: 0       username   0  rapid_games  rapid_rating  \\\n",
       "5           5  stefanleander  12           44          1127   \n",
       "\n",
       "   rapid_days_since_last_game  blitz_games  blitz_rating  \\\n",
       "5                           6         1981          1073   \n",
       "\n",
       "   blitz_days_since_last_game  \n",
       "5                           1  "
      ]
     },
     "execution_count": 5,
     "metadata": {},
     "output_type": "execute_result"
    }
   ],
   "source": [
    "df"
   ]
  },
  {
   "cell_type": "code",
   "execution_count": 6,
   "metadata": {},
   "outputs": [],
   "source": [
    "# Make list with usernames and list with number of live matches played\n",
    "\n",
    "users = list(df['username'])\n",
    "kampe = list(df['0'])\n",
    "\n",
    "# Create url based on chess.com url and username\n",
    "\n",
    "user_link = []\n",
    "\n",
    "for u in users:\n",
    "    link = \"https://www.chess.com/member/\" + u\n",
    "    user_link.append(link)\n",
    "    "
   ]
  },
  {
   "cell_type": "code",
   "execution_count": 7,
   "metadata": {},
   "outputs": [],
   "source": [
    "# Transform numeric number of matches to \"normal language\". Make sure it fits the text written in a later step.\n",
    "# It is better to write \"mange live kampe\" than \"32 live kampe\", as it is more smooth and the computerized element is better hidden.\n",
    "\n",
    "kampe_text = []\n",
    "for k in kampe:\n",
    "    if k > 10:\n",
    "        kt = 'mange live kampe'\n",
    "    elif k > 4:\n",
    "        kt = 'flere live kampe'\n",
    "    elif k > 1:\n",
    "        kt = 'nogle live kampe'\n",
    "    else:\n",
    "        kt = 'en live kamp'\n",
    "    kampe_text.append(kt)\n",
    "    "
   ]
  },
  {
   "cell_type": "code",
   "execution_count": 8,
   "metadata": {},
   "outputs": [],
   "source": [
    "# Create the standard message with the personalized elements such as username and frequency of matches played.\n",
    "\n",
    "message = []\n",
    "\n",
    "for (u, kt) in zip(users, kampe_text):\n",
    "    m = \"Hej \" + u + \", Jeg kontakter dig, da du allerede har spillet \" + str(kt) + \" med Team Danmark. Vi spiller live kamp igen søndag aften kl 21:15, det er en liga kamp mod Venezuela i tidsformatet 15|2. Jeg håber, at du vil være med til denne kamp, og du er ihvertfald mere end velkommen. Her er link til kampen https://www.chess.com/live#tm=5262. Hvis der er noget du er i tvivl om, så står jeg til rådighed. @stefanleander\"\n",
    "    message.append(m)"
   ]
  },
  {
   "cell_type": "code",
   "execution_count": 9,
   "metadata": {},
   "outputs": [
    {
     "data": {
      "text/plain": [
       "['Hej stefanleander, Jeg kontakter dig, da du allerede har spillet mange live kampe med Team Danmark. Vi spiller live kamp igen søndag aften kl 21:15, det er en liga kamp mod Venezuela i tidsformatet 15|2. Jeg håber, at du vil være med til denne kamp, og du er ihvertfald mere end velkommen. Her er link til kampen https://www.chess.com/live#tm=5262. Hvis der er noget du er i tvivl om, så står jeg til rådighed. @stefanleander']"
      ]
     },
     "execution_count": 9,
     "metadata": {},
     "output_type": "execute_result"
    }
   ],
   "source": [
    "# Proof read the messages\n",
    "\n",
    "message"
   ]
  },
  {
   "cell_type": "code",
   "execution_count": 10,
   "metadata": {},
   "outputs": [],
   "source": [
    "# And this is where the magic begins. The message will be sent as a chat message on chess.com to all the users in the list.\n",
    "# This has been tested, and it works perfectly. \n",
    "\n",
    "\n",
    "for (u, m)  in zip(user_link, message):\n",
    "\n",
    "    # Open users site\n",
    "    webbrowser.open_new_tab(u)\n",
    "\n",
    "    # Give the browser 5 seconds to late\n",
    "    time.sleep(5)\n",
    "\n",
    "    # Click on \"more\" button\n",
    "    pg.click(865,235, clicks=1)\n",
    "    time.sleep(3)\n",
    "\n",
    "    # Click on \"chat\" button\n",
    "    pg.click(865,265, clicks=1)\n",
    "    time.sleep(2)\n",
    "\n",
    "    # Click in chat text box to activate the chat\n",
    "    pg.click(1050,700)\n",
    "\n",
    "    # Copy paste message in the activated chat and send the message\n",
    "    pyperclip.copy(m)\n",
    "    pg.hotkey('ctrl', 'v')\n",
    "    pg.press('enter')\n",
    "\n",
    "    # close chat box\n",
    "    pg.click(1310,340)\n"
   ]
  },
  {
   "cell_type": "code",
   "execution_count": null,
   "metadata": {},
   "outputs": [],
   "source": []
  }
 ],
 "metadata": {
  "kernelspec": {
   "display_name": "Python 3",
   "language": "python",
   "name": "python3"
  },
  "language_info": {
   "codemirror_mode": {
    "name": "ipython",
    "version": 3
   },
   "file_extension": ".py",
   "mimetype": "text/x-python",
   "name": "python",
   "nbconvert_exporter": "python",
   "pygments_lexer": "ipython3",
   "version": "3.6.5"
  }
 },
 "nbformat": 4,
 "nbformat_minor": 2
}
